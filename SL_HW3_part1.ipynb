{
 "cells": [
  {
   "cell_type": "code",
   "execution_count": null,
   "metadata": {},
   "outputs": [],
   "source": [
    "! git clone https://github.com/aghk73/Statistical_Learning_HW3.git"
   ]
  },
  {
   "cell_type": "code",
   "execution_count": null,
   "metadata": {},
   "outputs": [],
   "source": [
    "cd Statistical_Learning_HW3"
   ]
  },
  {
   "cell_type": "code",
   "execution_count": null,
   "metadata": {
    "id": "tN51tUQohHJJ"
   },
   "outputs": [],
   "source": [
    "dataset = 'creditcard_short.csv.tar.gz'"
   ]
  },
  {
   "cell_type": "code",
   "execution_count": null,
   "metadata": {
    "colab": {
     "base_uri": "https://localhost:8080/"
    },
    "executionInfo": {
     "elapsed": 6013,
     "status": "ok",
     "timestamp": 1608757049142,
     "user": {
      "displayName": "ali kazazi",
      "photoUrl": "",
      "userId": "14468938181428587645"
     },
     "user_tz": -210
    },
    "id": "c7_M-8K0hHLj",
    "outputId": "e32c11a8-db92-45d9-9aa2-e7bd76683c8a"
   },
   "outputs": [
    {
     "name": "stdout",
     "output_type": "stream",
     "text": [
      "2.4.0\n"
     ]
    }
   ],
   "source": [
    "import pandas as pd\n",
    "import numpy as np\n",
    "from sklearn.model_selection import train_test_split\n",
    "from sklearn.preprocessing import StandardScaler\n",
    "import matplotlib.pyplot as plt\n",
    "from sklearn.svm import SVC, LinearSVC\n",
    "from sklearn.metrics import classification_report\n",
    "import tensorflow as tf\n",
    "from tensorflow.keras import Model\n",
    "\n",
    "\n",
    "%matplotlib inline\n",
    "plt.style.use('ggplot')\n",
    "print(tf.__version__)"
   ]
  },
  {
   "cell_type": "code",
   "execution_count": null,
   "metadata": {
    "id": "nVsNOe0bhHNu"
   },
   "outputs": [],
   "source": [
    "data = pd.read_csv(dataset, compression='gzip', dtype=np.float32).iloc[:, 1:]\n",
    "data.dropna(inplace=True)\n",
    "target = data['Class'].loc[:]"
   ]
  },
  {
   "cell_type": "code",
   "execution_count": null,
   "metadata": {
    "colab": {
     "base_uri": "https://localhost:8080/"
    },
    "executionInfo": {
     "elapsed": 7354,
     "status": "ok",
     "timestamp": 1608757051006,
     "user": {
      "displayName": "ali kazazi",
      "photoUrl": "",
      "userId": "14468938181428587645"
     },
     "user_tz": -210
    },
    "id": "l8w2XCelhHP6",
    "outputId": "9441cdc9-ac70-4d45-ec2a-6fbc2e1f37ea"
   },
   "outputs": [
    {
     "data": {
      "text/plain": [
       "(array([0., 1.], dtype=float32), array([181766,    365]))"
      ]
     },
     "execution_count": 7,
     "metadata": {
      "tags": []
     },
     "output_type": "execute_result"
    }
   ],
   "source": [
    "np.unique(target, return_counts=True)"
   ]
  },
  {
   "cell_type": "code",
   "execution_count": null,
   "metadata": {
    "colab": {
     "base_uri": "https://localhost:8080/",
     "height": 211
    },
    "executionInfo": {
     "elapsed": 6794,
     "status": "ok",
     "timestamp": 1608757051007,
     "user": {
      "displayName": "ali kazazi",
      "photoUrl": "",
      "userId": "14468938181428587645"
     },
     "user_tz": -210
    },
    "id": "obYUuQnEhHR6",
    "outputId": "a98d105d-2144-4d2a-fb34-bda4b90a19c6"
   },
   "outputs": [
    {
     "data": {
      "text/html": [
       "<div>\n",
       "<style scoped>\n",
       "    .dataframe tbody tr th:only-of-type {\n",
       "        vertical-align: middle;\n",
       "    }\n",
       "\n",
       "    .dataframe tbody tr th {\n",
       "        vertical-align: top;\n",
       "    }\n",
       "\n",
       "    .dataframe thead th {\n",
       "        text-align: right;\n",
       "    }\n",
       "</style>\n",
       "<table border=\"1\" class=\"dataframe\">\n",
       "  <thead>\n",
       "    <tr style=\"text-align: right;\">\n",
       "      <th></th>\n",
       "      <th>V1</th>\n",
       "      <th>V2</th>\n",
       "      <th>V3</th>\n",
       "      <th>V4</th>\n",
       "      <th>V5</th>\n",
       "      <th>V6</th>\n",
       "      <th>V7</th>\n",
       "      <th>V8</th>\n",
       "      <th>V9</th>\n",
       "      <th>V10</th>\n",
       "      <th>V11</th>\n",
       "      <th>V12</th>\n",
       "      <th>V13</th>\n",
       "      <th>V14</th>\n",
       "      <th>V15</th>\n",
       "      <th>V16</th>\n",
       "      <th>V17</th>\n",
       "      <th>V18</th>\n",
       "      <th>V19</th>\n",
       "      <th>V20</th>\n",
       "      <th>V21</th>\n",
       "      <th>V22</th>\n",
       "      <th>V23</th>\n",
       "      <th>V24</th>\n",
       "      <th>V25</th>\n",
       "      <th>V26</th>\n",
       "      <th>V27</th>\n",
       "      <th>V28</th>\n",
       "      <th>Amount</th>\n",
       "      <th>Class</th>\n",
       "    </tr>\n",
       "  </thead>\n",
       "  <tbody>\n",
       "    <tr>\n",
       "      <th>0</th>\n",
       "      <td>-1.359807</td>\n",
       "      <td>-0.072781</td>\n",
       "      <td>2.536347</td>\n",
       "      <td>1.378155</td>\n",
       "      <td>-0.338321</td>\n",
       "      <td>0.462388</td>\n",
       "      <td>0.239599</td>\n",
       "      <td>0.098698</td>\n",
       "      <td>0.363787</td>\n",
       "      <td>0.090794</td>\n",
       "      <td>-0.551600</td>\n",
       "      <td>-0.617801</td>\n",
       "      <td>-0.991390</td>\n",
       "      <td>-0.311169</td>\n",
       "      <td>1.468177</td>\n",
       "      <td>-0.470401</td>\n",
       "      <td>0.207971</td>\n",
       "      <td>0.025791</td>\n",
       "      <td>0.403993</td>\n",
       "      <td>0.251412</td>\n",
       "      <td>-0.018307</td>\n",
       "      <td>0.277838</td>\n",
       "      <td>-0.110474</td>\n",
       "      <td>0.066928</td>\n",
       "      <td>0.128539</td>\n",
       "      <td>-0.189115</td>\n",
       "      <td>0.133558</td>\n",
       "      <td>-0.021053</td>\n",
       "      <td>149.619995</td>\n",
       "      <td>0.0</td>\n",
       "    </tr>\n",
       "    <tr>\n",
       "      <th>1</th>\n",
       "      <td>1.191857</td>\n",
       "      <td>0.266151</td>\n",
       "      <td>0.166480</td>\n",
       "      <td>0.448154</td>\n",
       "      <td>0.060018</td>\n",
       "      <td>-0.082361</td>\n",
       "      <td>-0.078803</td>\n",
       "      <td>0.085102</td>\n",
       "      <td>-0.255425</td>\n",
       "      <td>-0.166974</td>\n",
       "      <td>1.612727</td>\n",
       "      <td>1.065235</td>\n",
       "      <td>0.489095</td>\n",
       "      <td>-0.143772</td>\n",
       "      <td>0.635558</td>\n",
       "      <td>0.463917</td>\n",
       "      <td>-0.114805</td>\n",
       "      <td>-0.183361</td>\n",
       "      <td>-0.145783</td>\n",
       "      <td>-0.069083</td>\n",
       "      <td>-0.225775</td>\n",
       "      <td>-0.638672</td>\n",
       "      <td>0.101288</td>\n",
       "      <td>-0.339846</td>\n",
       "      <td>0.167170</td>\n",
       "      <td>0.125895</td>\n",
       "      <td>-0.008983</td>\n",
       "      <td>0.014724</td>\n",
       "      <td>2.690000</td>\n",
       "      <td>0.0</td>\n",
       "    </tr>\n",
       "    <tr>\n",
       "      <th>2</th>\n",
       "      <td>-1.358354</td>\n",
       "      <td>-1.340163</td>\n",
       "      <td>1.773209</td>\n",
       "      <td>0.379780</td>\n",
       "      <td>-0.503198</td>\n",
       "      <td>1.800499</td>\n",
       "      <td>0.791461</td>\n",
       "      <td>0.247676</td>\n",
       "      <td>-1.514654</td>\n",
       "      <td>0.207643</td>\n",
       "      <td>0.624501</td>\n",
       "      <td>0.066084</td>\n",
       "      <td>0.717293</td>\n",
       "      <td>-0.165946</td>\n",
       "      <td>2.345865</td>\n",
       "      <td>-2.890083</td>\n",
       "      <td>1.109969</td>\n",
       "      <td>-0.121359</td>\n",
       "      <td>-2.261857</td>\n",
       "      <td>0.524980</td>\n",
       "      <td>0.247998</td>\n",
       "      <td>0.771679</td>\n",
       "      <td>0.909412</td>\n",
       "      <td>-0.689281</td>\n",
       "      <td>-0.327642</td>\n",
       "      <td>-0.139097</td>\n",
       "      <td>-0.055353</td>\n",
       "      <td>-0.059752</td>\n",
       "      <td>378.660004</td>\n",
       "      <td>0.0</td>\n",
       "    </tr>\n",
       "    <tr>\n",
       "      <th>3</th>\n",
       "      <td>-0.966272</td>\n",
       "      <td>-0.185226</td>\n",
       "      <td>1.792993</td>\n",
       "      <td>-0.863291</td>\n",
       "      <td>-0.010309</td>\n",
       "      <td>1.247203</td>\n",
       "      <td>0.237609</td>\n",
       "      <td>0.377436</td>\n",
       "      <td>-1.387024</td>\n",
       "      <td>-0.054952</td>\n",
       "      <td>-0.226487</td>\n",
       "      <td>0.178228</td>\n",
       "      <td>0.507757</td>\n",
       "      <td>-0.287924</td>\n",
       "      <td>-0.631418</td>\n",
       "      <td>-1.059647</td>\n",
       "      <td>-0.684093</td>\n",
       "      <td>1.965775</td>\n",
       "      <td>-1.232622</td>\n",
       "      <td>-0.208038</td>\n",
       "      <td>-0.108300</td>\n",
       "      <td>0.005274</td>\n",
       "      <td>-0.190321</td>\n",
       "      <td>-1.175575</td>\n",
       "      <td>0.647376</td>\n",
       "      <td>-0.221929</td>\n",
       "      <td>0.062723</td>\n",
       "      <td>0.061458</td>\n",
       "      <td>123.500000</td>\n",
       "      <td>0.0</td>\n",
       "    </tr>\n",
       "    <tr>\n",
       "      <th>4</th>\n",
       "      <td>-1.158233</td>\n",
       "      <td>0.877737</td>\n",
       "      <td>1.548718</td>\n",
       "      <td>0.403034</td>\n",
       "      <td>-0.407193</td>\n",
       "      <td>0.095921</td>\n",
       "      <td>0.592941</td>\n",
       "      <td>-0.270533</td>\n",
       "      <td>0.817739</td>\n",
       "      <td>0.753074</td>\n",
       "      <td>-0.822843</td>\n",
       "      <td>0.538196</td>\n",
       "      <td>1.345852</td>\n",
       "      <td>-1.119670</td>\n",
       "      <td>0.175121</td>\n",
       "      <td>-0.451449</td>\n",
       "      <td>-0.237033</td>\n",
       "      <td>-0.038195</td>\n",
       "      <td>0.803487</td>\n",
       "      <td>0.408542</td>\n",
       "      <td>-0.009431</td>\n",
       "      <td>0.798279</td>\n",
       "      <td>-0.137458</td>\n",
       "      <td>0.141267</td>\n",
       "      <td>-0.206010</td>\n",
       "      <td>0.502292</td>\n",
       "      <td>0.219422</td>\n",
       "      <td>0.215153</td>\n",
       "      <td>69.989998</td>\n",
       "      <td>0.0</td>\n",
       "    </tr>\n",
       "  </tbody>\n",
       "</table>\n",
       "</div>"
      ],
      "text/plain": [
       "         V1        V2        V3  ...       V28      Amount  Class\n",
       "0 -1.359807 -0.072781  2.536347  ... -0.021053  149.619995    0.0\n",
       "1  1.191857  0.266151  0.166480  ...  0.014724    2.690000    0.0\n",
       "2 -1.358354 -1.340163  1.773209  ... -0.059752  378.660004    0.0\n",
       "3 -0.966272 -0.185226  1.792993  ...  0.061458  123.500000    0.0\n",
       "4 -1.158233  0.877737  1.548718  ...  0.215153   69.989998    0.0\n",
       "\n",
       "[5 rows x 30 columns]"
      ]
     },
     "execution_count": 8,
     "metadata": {
      "tags": []
     },
     "output_type": "execute_result"
    }
   ],
   "source": [
    "data.head()"
   ]
  },
  {
   "cell_type": "code",
   "execution_count": null,
   "metadata": {
    "colab": {
     "base_uri": "https://localhost:8080/"
    },
    "executionInfo": {
     "elapsed": 6175,
     "status": "ok",
     "timestamp": 1608757051008,
     "user": {
      "displayName": "ali kazazi",
      "photoUrl": "",
      "userId": "14468938181428587645"
     },
     "user_tz": -210
    },
    "id": "V78URklRhHUI",
    "outputId": "344b550d-dd15-4f44-a3ab-aaa4af8041b4"
   },
   "outputs": [
    {
     "data": {
      "text/plain": [
       "((182131, 29), (182131,))"
      ]
     },
     "execution_count": 9,
     "metadata": {
      "tags": []
     },
     "output_type": "execute_result"
    }
   ],
   "source": [
    "X, y = data.iloc[:, :-1].values, data['Class'].values\n",
    "X.shape, y.shape"
   ]
  },
  {
   "cell_type": "code",
   "execution_count": null,
   "metadata": {
    "colab": {
     "base_uri": "https://localhost:8080/"
    },
    "executionInfo": {
     "elapsed": 5601,
     "status": "ok",
     "timestamp": 1608757051009,
     "user": {
      "displayName": "ali kazazi",
      "photoUrl": "",
      "userId": "14468938181428587645"
     },
     "user_tz": -210
    },
    "id": "b8InK2iPhHWe",
    "outputId": "91152e5a-fa21-41e1-8235-f804fe7fdb45"
   },
   "outputs": [
    {
     "data": {
      "text/plain": [
       "((131133, 29), (14571, 29), (36427, 29))"
      ]
     },
     "execution_count": 10,
     "metadata": {
      "tags": []
     },
     "output_type": "execute_result"
    }
   ],
   "source": [
    "X_train, X_test, y_train, y_test = train_test_split(X, y, test_size=0.2, stratify=y, random_state=46)\n",
    "X_train, X_val, y_train, y_val = train_test_split(X_train, y_train, test_size=0.1, stratify=y_train, random_state=46)\n",
    "X_train.shape, X_val.shape, X_test.shape"
   ]
  },
  {
   "cell_type": "code",
   "execution_count": null,
   "metadata": {
    "colab": {
     "base_uri": "https://localhost:8080/"
    },
    "executionInfo": {
     "elapsed": 4973,
     "status": "ok",
     "timestamp": 1608757051009,
     "user": {
      "displayName": "ali kazazi",
      "photoUrl": "",
      "userId": "14468938181428587645"
     },
     "user_tz": -210
    },
    "id": "tRQMQ-7FzQCe",
    "outputId": "b40b4b00-d806-4c02-e856-aa20438e3c84"
   },
   "outputs": [
    {
     "data": {
      "text/plain": [
       "((array([0., 1.], dtype=float32), array([130870,    263])),\n",
       " (array([0., 1.], dtype=float32), array([36354,    73])),\n",
       " (array([0., 1.], dtype=float32), array([14542,    29])))"
      ]
     },
     "execution_count": 11,
     "metadata": {
      "tags": []
     },
     "output_type": "execute_result"
    }
   ],
   "source": [
    "np.unique(y_train, return_counts=True), np.unique(y_test, return_counts=True), np.unique(y_val, return_counts=True)"
   ]
  },
  {
   "cell_type": "code",
   "execution_count": null,
   "metadata": {
    "id": "sExxDX8ArEVx"
   },
   "outputs": [],
   "source": [
    "scaler = StandardScaler()\n",
    "scaler.fit(X_train)\n",
    "X_train = scaler.transform(X_train)\n",
    "X_val = scaler.transform(X_val)\n",
    "X_test = scaler.transform(X_test)"
   ]
  },
  {
   "cell_type": "code",
   "execution_count": null,
   "metadata": {
    "id": "TNTXjIWHAGf-"
   },
   "outputs": [],
   "source": [
    "models = [LinearSVC(penalty='l1', dual=False, loss='squared_hinge', C=1), \n",
    "          LinearSVC(penalty='l2', dual=True, loss='hinge', C=1), \n",
    "          SVC(kernel='poly', degree=3),\n",
    "          SVC(kernel='poly', degree=4),\n",
    "          SVC(kernel='rbf', C=50)]"
   ]
  },
  {
   "cell_type": "code",
   "execution_count": null,
   "metadata": {
    "colab": {
     "base_uri": "https://localhost:8080/"
    },
    "executionInfo": {
     "elapsed": 124846,
     "status": "ok",
     "timestamp": 1608754610682,
     "user": {
      "displayName": "ali kazazi",
      "photoUrl": "",
      "userId": "14468938181428587645"
     },
     "user_tz": -210
    },
    "id": "7W-JH9TWAGir",
    "outputId": "91a73c78-c301-49bc-cddb-743df82b646e"
   },
   "outputs": [
    {
     "name": "stderr",
     "output_type": "stream",
     "text": [
      "/usr/local/lib/python3.6/dist-packages/sklearn/svm/_base.py:947: ConvergenceWarning: Liblinear failed to converge, increase the number of iterations.\n",
      "  \"the number of iterations.\", ConvergenceWarning)\n"
     ]
    }
   ],
   "source": [
    "classifiers = [classifier.fit(X_train, y_train) for classifier in models]"
   ]
  },
  {
   "cell_type": "code",
   "execution_count": null,
   "metadata": {
    "id": "w4qIboZRAGlH"
   },
   "outputs": [],
   "source": [
    "train_scores = [classification_report(y_train, model.predict(X_train), target_names=['non-fraudulent', 'fraudulent']) for model in classifiers]\n",
    "test_scores = [classification_report(y_test, model.predict(X_test), target_names=['non-fraudulent', 'fraudulent']) for model in classifiers]"
   ]
  },
  {
   "cell_type": "code",
   "execution_count": null,
   "metadata": {
    "colab": {
     "base_uri": "https://localhost:8080/"
    },
    "executionInfo": {
     "elapsed": 6409,
     "status": "ok",
     "timestamp": 1608755940543,
     "user": {
      "displayName": "ali kazazi",
      "photoUrl": "",
      "userId": "14468938181428587645"
     },
     "user_tz": -210
    },
    "id": "JH6kf6xGAGnZ",
    "outputId": "c19adcf6-9b7e-4694-a748-17b053cc44c4"
   },
   "outputs": [
    {
     "name": "stdout",
     "output_type": "stream",
     "text": [
      "***************** train set scores *****************\n",
      "\n",
      "******** linear svm l1-norm squared_hinge loss ********\n",
      "\n",
      "                precision    recall  f1-score   support\n",
      "\n",
      "non-fraudulent       1.00      1.00      1.00    130870\n",
      "    fraudulent       0.88      0.61      0.72       263\n",
      "\n",
      "      accuracy                           1.00    131133\n",
      "     macro avg       0.94      0.80      0.86    131133\n",
      "  weighted avg       1.00      1.00      1.00    131133\n",
      "\n",
      "******** linear svm l2-norm hinge loss ********\n",
      "\n",
      "                precision    recall  f1-score   support\n",
      "\n",
      "non-fraudulent       1.00      1.00      1.00    130870\n",
      "    fraudulent       0.87      0.83      0.85       263\n",
      "\n",
      "      accuracy                           1.00    131133\n",
      "     macro avg       0.94      0.91      0.92    131133\n",
      "  weighted avg       1.00      1.00      1.00    131133\n",
      "\n",
      "******** kernel poly degree 3 ********\n",
      "\n",
      "                precision    recall  f1-score   support\n",
      "\n",
      "non-fraudulent       1.00      1.00      1.00    130870\n",
      "    fraudulent       1.00      0.92      0.96       263\n",
      "\n",
      "      accuracy                           1.00    131133\n",
      "     macro avg       1.00      0.96      0.98    131133\n",
      "  weighted avg       1.00      1.00      1.00    131133\n",
      "\n",
      "******** kernel poly degree 4 ********\n",
      "\n",
      "                precision    recall  f1-score   support\n",
      "\n",
      "non-fraudulent       1.00      1.00      1.00    130870\n",
      "    fraudulent       1.00      0.92      0.96       263\n",
      "\n",
      "      accuracy                           1.00    131133\n",
      "     macro avg       1.00      0.96      0.98    131133\n",
      "  weighted avg       1.00      1.00      1.00    131133\n",
      "\n",
      "******** kernel RBF ********\n",
      "\n",
      "                precision    recall  f1-score   support\n",
      "\n",
      "non-fraudulent       1.00      1.00      1.00    130870\n",
      "    fraudulent       1.00      0.97      0.98       263\n",
      "\n",
      "      accuracy                           1.00    131133\n",
      "     macro avg       1.00      0.98      0.99    131133\n",
      "  weighted avg       1.00      1.00      1.00    131133\n",
      "\n",
      "***************** test set scores *****************\n",
      "\n",
      "******** linear svm l1-norm squared_hinge loss ********\n",
      "\n",
      "                precision    recall  f1-score   support\n",
      "\n",
      "non-fraudulent       1.00      1.00      1.00     36354\n",
      "    fraudulent       0.78      0.52      0.62        73\n",
      "\n",
      "      accuracy                           1.00     36427\n",
      "     macro avg       0.89      0.76      0.81     36427\n",
      "  weighted avg       1.00      1.00      1.00     36427\n",
      "\n",
      "******** linear svm l2-norm hinge loss ********\n",
      "\n",
      "                precision    recall  f1-score   support\n",
      "\n",
      "non-fraudulent       1.00      1.00      1.00     36354\n",
      "    fraudulent       0.74      0.66      0.70        73\n",
      "\n",
      "      accuracy                           1.00     36427\n",
      "     macro avg       0.87      0.83      0.85     36427\n",
      "  weighted avg       1.00      1.00      1.00     36427\n",
      "\n",
      "******** kernel poly degree 3 ********\n",
      "\n",
      "                precision    recall  f1-score   support\n",
      "\n",
      "non-fraudulent       1.00      1.00      1.00     36354\n",
      "    fraudulent       0.86      0.78      0.82        73\n",
      "\n",
      "      accuracy                           1.00     36427\n",
      "     macro avg       0.93      0.89      0.91     36427\n",
      "  weighted avg       1.00      1.00      1.00     36427\n",
      "\n",
      "******** kernel poly degree 4 ********\n",
      "\n",
      "                precision    recall  f1-score   support\n",
      "\n",
      "non-fraudulent       1.00      1.00      1.00     36354\n",
      "    fraudulent       0.85      0.77      0.81        73\n",
      "\n",
      "      accuracy                           1.00     36427\n",
      "     macro avg       0.92      0.88      0.90     36427\n",
      "  weighted avg       1.00      1.00      1.00     36427\n",
      "\n",
      "******** kernel RBF ********\n",
      "\n",
      "                precision    recall  f1-score   support\n",
      "\n",
      "non-fraudulent       1.00      1.00      1.00     36354\n",
      "    fraudulent       0.88      0.67      0.76        73\n",
      "\n",
      "      accuracy                           1.00     36427\n",
      "     macro avg       0.94      0.84      0.88     36427\n",
      "  weighted avg       1.00      1.00      1.00     36427\n",
      "\n",
      "---------- test accuracies ----------\n",
      "linear svm l1-norm squared_hinge loss:  0.99874\n",
      "linear svm l2-norm hinge loss:  0.99885\n",
      "kernel poly degree 3:  0.99931\n",
      "kernel poly degree 4:  0.99926\n",
      "kernel RBF:  0.99915\n"
     ]
    }
   ],
   "source": [
    "models_list = ['linear svm l1-norm squared_hinge loss', \n",
    "               'linear svm l2-norm hinge loss', \n",
    "               'kernel poly degree 3', \n",
    "               'kernel poly degree 4', \n",
    "               'kernel RBF'\n",
    "               ]\n",
    "\n",
    "print('***************** train set scores *****************\\n')\n",
    "for i in range(len(models_list)):\n",
    "    print(f'******** {models_list[i]} ********\\n')\n",
    "    print(train_scores[i], end='\\n')\n",
    "\n",
    "print('***************** test set scores *****************\\n')\n",
    "for i in range(len(models_list)):\n",
    "    print(f'******** {models_list[i]} ********\\n')\n",
    "    print(test_scores[i], end='\\n')\n",
    "\n",
    "test_accs = [model.score(X_test, y_test) for model in classifiers]\n",
    "\n",
    "print('---------- test accuracies ----------')\n",
    "for i in range(len(test_accs)):\n",
    "    print(models_list[i] + ': ', f'{test_accs[i]:3.5f}')"
   ]
  },
  {
   "cell_type": "code",
   "execution_count": null,
   "metadata": {
    "id": "crBxrAb_U4U6"
   },
   "outputs": [],
   "source": []
  },
  {
   "cell_type": "code",
   "execution_count": null,
   "metadata": {
    "id": "Icb_ErjXU4Xh"
   },
   "outputs": [],
   "source": []
  },
  {
   "cell_type": "code",
   "execution_count": null,
   "metadata": {
    "id": "u4_abkwbAGs-"
   },
   "outputs": [],
   "source": []
  },
  {
   "cell_type": "code",
   "execution_count": null,
   "metadata": {
    "id": "mqvfuusdrEYS"
   },
   "outputs": [],
   "source": []
  },
  {
   "cell_type": "code",
   "execution_count": null,
   "metadata": {
    "id": "Jx-NT5vCrEa8"
   },
   "outputs": [],
   "source": []
  },
  {
   "cell_type": "code",
   "execution_count": null,
   "metadata": {
    "id": "C_HKTaXArEeY"
   },
   "outputs": [],
   "source": []
  },
  {
   "cell_type": "code",
   "execution_count": null,
   "metadata": {
    "id": "G40-lxf4hHYE"
   },
   "outputs": [],
   "source": []
  }
 ],
 "metadata": {
  "colab": {
   "authorship_tag": "ABX9TyOxzhrpahinqsysNUiNYOQ2",
   "collapsed_sections": [],
   "name": "SL_HW3_part1.ipynb",
   "provenance": []
  },
  "kernelspec": {
   "display_name": "Python 3",
   "language": "python",
   "name": "python3"
  },
  "language_info": {
   "codemirror_mode": {
    "name": "ipython",
    "version": 3
   },
   "file_extension": ".py",
   "mimetype": "text/x-python",
   "name": "python",
   "nbconvert_exporter": "python",
   "pygments_lexer": "ipython3",
   "version": "3.8.3"
  }
 },
 "nbformat": 4,
 "nbformat_minor": 1
}
