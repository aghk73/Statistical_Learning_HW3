{
 "cells": [
  {
   "cell_type": "code",
   "execution_count": 4,
   "metadata": {
    "executionInfo": {
     "elapsed": 29724,
     "status": "ok",
     "timestamp": 1609870921340,
     "user": {
      "displayName": "ali kazazi",
      "photoUrl": "",
      "userId": "14468938181428587645"
     },
     "user_tz": -210
    },
    "id": "MUmRM0Jy2X9H"
   },
   "outputs": [],
   "source": [
    "dataset = 'creditcard_short.csv.tar.gz'"
   ]
  },
  {
   "cell_type": "code",
   "execution_count": 5,
   "metadata": {
    "colab": {
     "base_uri": "https://localhost:8080/"
    },
    "executionInfo": {
     "elapsed": 32650,
     "status": "ok",
     "timestamp": 1609870924275,
     "user": {
      "displayName": "ali kazazi",
      "photoUrl": "",
      "userId": "14468938181428587645"
     },
     "user_tz": -210
    },
    "id": "lOjvEitt2X_Y",
    "outputId": "e9e03674-c7db-41e9-fb9f-8a50ffbfb7e9"
   },
   "outputs": [
    {
     "name": "stdout",
     "output_type": "stream",
     "text": [
      "2.4.0\n"
     ]
    }
   ],
   "source": [
    "import tensorflow as tf\n",
    "from tensorflow.keras import Model\n",
    "import pandas as pd\n",
    "import numpy as np\n",
    "import matplotlib.pyplot as plt\n",
    "import sys\n",
    "from sklearn.model_selection import train_test_split\n",
    "from sklearn.preprocessing import StandardScaler\n",
    "from tqdm import tqdm\n",
    "\n",
    "\n",
    "\n",
    "eps = sys.float_info.epsilon\n",
    "%matplotlib inline\n",
    "plt.style.use('ggplot')\n",
    "print(tf.__version__)"
   ]
  },
  {
   "cell_type": "code",
   "execution_count": 6,
   "metadata": {
    "executionInfo": {
     "elapsed": 36017,
     "status": "ok",
     "timestamp": 1609870927646,
     "user": {
      "displayName": "ali kazazi",
      "photoUrl": "",
      "userId": "14468938181428587645"
     },
     "user_tz": -210
    },
    "id": "BNgbOwj4xxuL"
   },
   "outputs": [],
   "source": [
    "data = pd.read_csv(dataset, compression='gzip', dtype=np.float32).iloc[:, 1:]\n",
    "data.dropna(inplace=True)\n",
    "data['Class'].replace(0, -1, inplace=True)\n",
    "X, y = data.iloc[:, :-1].values, data['Class'].values.reshape(-1, 1)"
   ]
  },
  {
   "cell_type": "code",
   "execution_count": 7,
   "metadata": {
    "executionInfo": {
     "elapsed": 37090,
     "status": "ok",
     "timestamp": 1609870928722,
     "user": {
      "displayName": "ali kazazi",
      "photoUrl": "",
      "userId": "14468938181428587645"
     },
     "user_tz": -210
    },
    "id": "3QqrXR91x8aJ"
   },
   "outputs": [],
   "source": [
    "X_train, X_test, y_train, y_test = train_test_split(X, y, test_size=0.2, stratify=y, random_state=46)\n",
    "X_train, X_val, y_train, y_val = train_test_split(X_train, y_train, test_size=0.1, stratify=y_train, random_state=46)"
   ]
  },
  {
   "cell_type": "code",
   "execution_count": 8,
   "metadata": {
    "executionInfo": {
     "elapsed": 37087,
     "status": "ok",
     "timestamp": 1609870928723,
     "user": {
      "displayName": "ali kazazi",
      "photoUrl": "",
      "userId": "14468938181428587645"
     },
     "user_tz": -210
    },
    "id": "sTm_znzCyA67"
   },
   "outputs": [],
   "source": [
    "scaler = StandardScaler()\n",
    "scaler.fit(X_train)\n",
    "X_train = scaler.transform(X_train)\n",
    "X_val = scaler.transform(X_val)\n",
    "X_test = scaler.transform(X_test)"
   ]
  },
  {
   "cell_type": "code",
   "execution_count": 9,
   "metadata": {
    "executionInfo": {
     "elapsed": 37084,
     "status": "ok",
     "timestamp": 1609870928723,
     "user": {
      "displayName": "ali kazazi",
      "photoUrl": "",
      "userId": "14468938181428587645"
     },
     "user_tz": -210
    },
    "id": "W2AZxjZ6A4xY"
   },
   "outputs": [],
   "source": [
    "class myModel(Model):\n",
    "    def __init__(self):\n",
    "        super(myModel, self).__init__()\n",
    "        self.w = tf.Variable(np.random.randn(X.shape[1], 1), trainable=True, dtype=np.float32, name='w')\n",
    "        self.b = tf.Variable(1, trainable=True, dtype=np.float32, name='bias')\n",
    "\n",
    "    def call(self, X):\n",
    "        y = tf.subtract(tf.matmul(X, self.w), self.b)\n",
    "        return y\n",
    "\n",
    "\n",
    "class trainModel:\n",
    "    def __init__(self, model, Learning_rate, Lambda, n_epochs, batch_size):\n",
    "        self.model = model\n",
    "        self.lr = Learning_rate\n",
    "        self.l = Lambda\n",
    "        self.epochs = n_epochs\n",
    "        self.batch_size = batch_size\n",
    "        self.optimizer = tf.keras.optimizers.Adam(learning_rate=self.lr, decay=0.01)\n",
    "        self.epoch_losses = []\n",
    "        self.epoch_accuracies = []\n",
    "        self.epoch_val_losses = []\n",
    "        self.epoch_val_accuracies = []\n",
    "        self.mini_batch_losses = []\n",
    "        self.mini_batch_accuracies = []\n",
    "        self.history = {}\n",
    "    \n",
    "    def mini_batch_generator(self, X, y):\n",
    "        num_minibatches = int(len(X) / self.batch_size)\n",
    "        for i in range(num_minibatches):\n",
    "            data_batch = X[i * self.batch_size:(i + 1) * self.batch_size]\n",
    "            label_batch = y[i * self.batch_size:(i + 1) * self.batch_size]\n",
    "            yield data_batch, label_batch\n",
    "        if len(X) % self.batch_size != 0:\n",
    "            data_batch = X[num_minibatches * self.batch_size:]\n",
    "            label_batch = y[num_minibatches * self.batch_size:]\n",
    "            yield data_batch, label_batch\n",
    "\n",
    "    def loss(self, y, y_hat):\n",
    "\n",
    "        l2_norm = tf.reduce_sum(tf.square(self.model.w))\n",
    "        classification_term = tf.reduce_mean(tf.maximum(0., tf.subtract(1.,tf.multiply(y_hat, y))))\n",
    "        return tf.add(classification_term, tf.multiply(self.l, l2_norm))\n",
    "        \n",
    "    def predict(self, X):\n",
    "        return tf.math.sign(self.model([X]))\n",
    "\n",
    "    def eval(self, X, y):\n",
    "        preds = self.predict(X).numpy()[0, :]\n",
    "        accuracy = tf.reduce_mean(tf.dtypes.cast(tf.equal(preds, y), tf.float32))\n",
    "        loss = self.loss(y, preds)\n",
    "        return loss.numpy(), accuracy.numpy()\n",
    "\n",
    "    def fit(self, X_train, y_train, X_val=None, y_val=None):\n",
    "        \n",
    "        for epoch in range(self.epochs):\n",
    "            # Shuffle Data\n",
    "            indices = np.random.permutation(len(X_train))\n",
    "            X_train = X_train[indices]\n",
    "            y_train = y_train[indices]\n",
    "\n",
    "            for X_train_batch, y_train_batch in self.mini_batch_generator(X_train, y_train):\n",
    "\n",
    "                with tf.GradientTape(persistent=False) as tape:\n",
    "\n",
    "                    preds = self.model(X_train_batch)\n",
    "                    loss = self.loss(y_train_batch, preds)\n",
    "               \n",
    "                gradients = tape.gradient(loss, self.model.trainable_variables)\n",
    "                self.optimizer.apply_gradients(zip(gradients, self.model.trainable_variables))\n",
    "\n",
    "                loss, acc = self.eval(X_train, y_train)\n",
    "\n",
    "                self.mini_batch_losses.append(loss)\n",
    "                self.mini_batch_accuracies.append(acc)\n",
    "\n",
    "            self.epoch_losses.append(np.mean(self.mini_batch_losses))\n",
    "            self.epoch_accuracies.append(np.mean(self.mini_batch_accuracies))\n",
    "            \n",
    "            if X_val is not None:\n",
    "                val_loss, val_metric = self.eval(X_val, y_val)\n",
    "                self.epoch_val_losses.append(val_loss)\n",
    "                self.epoch_val_accuracies.append(val_metric)\n",
    "                print(f'\\rEpoch {epoch+1}/{self.epochs} train_loss:{self.epoch_losses[epoch]:3.3f}, train_acc:{self.epoch_accuracies[epoch]:3.3f}, val_loss:{val_loss:f}, val_acc:{val_metric:3.3f}', end=\"\")\n",
    "            else:\n",
    "                print(f'\\rEpoch {epoch+1}/{self.epochs} train loss:{self.epoch_losses[epoch]:3.3f}, train_acc:{self.epoch_accuracies[epoch]:3.3f}', end=\"\")\n",
    "            \n",
    "        print()\n",
    "        self.history['train_accuracy'] = self.epoch_accuracies\n",
    "        self.history['train_loss'] = self.epoch_losses\n",
    "\n",
    "        if X_val is not None:\n",
    "            self.history['val_accuracy'] = self.epoch_val_accuracies\n",
    "            self.history['val_loss'] = self.epoch_val_losses\n",
    "\n",
    "        return\n",
    "\n",
    "\n",
    "\n"
   ]
  },
  {
   "cell_type": "code",
   "execution_count": 10,
   "metadata": {
    "colab": {
     "base_uri": "https://localhost:8080/"
    },
    "executionInfo": {
     "elapsed": 96327,
     "status": "ok",
     "timestamp": 1609870987975,
     "user": {
      "displayName": "ali kazazi",
      "photoUrl": "",
      "userId": "14468938181428587645"
     },
     "user_tz": -210
    },
    "id": "dTT0YhNCA3r5",
    "outputId": "ffcbc238-3f24-4980-d63e-00e0abe9e31a"
   },
   "outputs": [
    {
     "name": "stdout",
     "output_type": "stream",
     "text": [
      "Epoch 50/50 train_loss:0.021, train_acc:0.989, val_loss:0.001510, val_acc:0.999\n"
     ]
    }
   ],
   "source": [
    "model = myModel()\n",
    "\n",
    "trained_model = trainModel(model, Learning_rate=0.01, Lambda=0, n_epochs=50, batch_size=1024)\n",
    "trained_model.fit(X_train, y_train, X_val, y_val)\n"
   ]
  },
  {
   "cell_type": "code",
   "execution_count": 11,
   "metadata": {
    "colab": {
     "base_uri": "https://localhost:8080/"
    },
    "executionInfo": {
     "elapsed": 96321,
     "status": "ok",
     "timestamp": 1609870987979,
     "user": {
      "displayName": "ali kazazi",
      "photoUrl": "",
      "userId": "14468938181428587645"
     },
     "user_tz": -210
    },
    "id": "zdEip5QxjRMs",
    "outputId": "b478adc5-bc9f-4794-873f-8fa675adbf63"
   },
   "outputs": [
    {
     "name": "stdout",
     "output_type": "stream",
     "text": [
      "Test Accuracy: 0.999\n"
     ]
    }
   ],
   "source": [
    "print(f'Test Accuracy: {trained_model.eval(X_test, y_test)[1]:3.3f}')"
   ]
  },
  {
   "cell_type": "code",
   "execution_count": 12,
   "metadata": {
    "colab": {
     "base_uri": "https://localhost:8080/",
     "height": 0
    },
    "executionInfo": {
     "elapsed": 97571,
     "status": "ok",
     "timestamp": 1609870989239,
     "user": {
      "displayName": "ali kazazi",
      "photoUrl": "",
      "userId": "14468938181428587645"
     },
     "user_tz": -210
    },
    "id": "97RIgTPS23dv",
    "outputId": "2f9fd457-63d8-4488-b0ad-53f7d8467396"
   },
   "outputs": [
    {
     "data": {
      "image/png": "[encoded data removed]",
      "text/plain": [
       "<Figure size 1008x576 with 1 Axes>"
      ]
     },
     "metadata": {
      "tags": []
     },
     "output_type": "display_data"
    },
    {
     "data": {
      "image/png": "[encoded data removed]",
      "text/plain": [
       "<Figure size 1008x576 with 1 Axes>"
      ]
     },
     "metadata": {
      "tags": []
     },
     "output_type": "display_data"
    }
   ],
   "source": [
    "train_accuracy = trained_model.history['train_accuracy']\n",
    "train_loss = trained_model.history['train_loss']\n",
    "validation_accuracy = trained_model.history['val_accuracy']\n",
    "validation_loss = trained_model.history['val_loss']\n",
    "epochs = range(1, len(train_loss) + 1)\n",
    "\n",
    "plt.figure(figsize=(14, 8))\n",
    "plt.plot(epochs, train_accuracy, 'b', label='Train Accuracy')\n",
    "plt.plot(epochs, validation_accuracy, 'r', label='Validation Accuracy')\n",
    "plt.xlabel('Epochs', fontsize=13)\n",
    "plt.ylabel('Accuracy', fontsize=13)\n",
    "plt.title('Accuracy of Linear SVM')\n",
    "plt.legend(shadow=True)\n",
    "plt.savefig('acc', dpi=150, bbox_inches='tight')\n",
    "\n",
    "plt.figure(figsize=(14, 8))\n",
    "plt.plot(epochs, train_loss, 'b', label='Train Loss')\n",
    "plt.plot(epochs, validation_loss, 'r', label='Validation Loss')\n",
    "plt.xlabel('Epochs', fontsize=13)\n",
    "plt.ylabel('Loss', fontsize=13)\n",
    "plt.title('Hinge loss of SVM Classifier')\n",
    "plt.legend(shadow=True)\n",
    "plt.savefig('loss', dpi=150, bbox_inches='tight')\n",
    "\n",
    "\n",
    "plt.show()"
   ]
  },
  {
   "cell_type": "code",
   "execution_count": 12,
   "metadata": {
    "executionInfo": {
     "elapsed": 97570,
     "status": "ok",
     "timestamp": 1609870989243,
     "user": {
      "displayName": "ali kazazi",
      "photoUrl": "",
      "userId": "14468938181428587645"
     },
     "user_tz": -210
    },
    "id": "a5mERvpe2YFQ"
   },
   "outputs": [],
   "source": []
  },
  {
   "cell_type": "code",
   "execution_count": 12,
   "metadata": {
    "executionInfo": {
     "elapsed": 97568,
     "status": "ok",
     "timestamp": 1609870989245,
     "user": {
      "displayName": "ali kazazi",
      "photoUrl": "",
      "userId": "14468938181428587645"
     },
     "user_tz": -210
    },
    "id": "Zyb0z5do2YHn"
   },
   "outputs": [],
   "source": []
  },
  {
   "cell_type": "code",
   "execution_count": 12,
   "metadata": {
    "executionInfo": {
     "elapsed": 97566,
     "status": "ok",
     "timestamp": 1609870989246,
     "user": {
      "displayName": "ali kazazi",
      "photoUrl": "",
      "userId": "14468938181428587645"
     },
     "user_tz": -210
    },
    "id": "Bihk4L9x2YJb"
   },
   "outputs": [],
   "source": []
  }
 ],
 "metadata": {
  "colab": {
   "authorship_tag": "ABX9TyNCNwIVYjMuouqioS6ndrnM",
   "collapsed_sections": [],
   "name": "stat_HW3_tf_SVM.ipynb",
   "provenance": []
  },
  "kernelspec": {
   "display_name": "Python 3",
   "language": "python",
   "name": "python3"
  },
  "language_info": {
   "codemirror_mode": {
    "name": "ipython",
    "version": 3
   },
   "file_extension": ".py",
   "mimetype": "text/x-python",
   "name": "python",
   "nbconvert_exporter": "python",
   "pygments_lexer": "ipython3",
   "version": "3.8.3"
  }
 },
 "nbformat": 4,
 "nbformat_minor": 1
}
